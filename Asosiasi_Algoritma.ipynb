{
  "nbformat": 4,
  "nbformat_minor": 0,
  "metadata": {
    "colab": {
      "name": "Asosiasi Algoritma.ipynb",
      "provenance": [],
      "authorship_tag": "ABX9TyMYaYSqgemmPV5487mlTUHH",
      "include_colab_link": true
    },
    "kernelspec": {
      "name": "ir",
      "display_name": "R"
    },
    "language_info": {
      "name": "R"
    }
  },
  "cells": [
    {
      "cell_type": "markdown",
      "metadata": {
        "id": "view-in-github",
        "colab_type": "text"
      },
      "source": [
        "<a href=\"https://colab.research.google.com/github/cdevrywhr/Data-Scientist-with-R/blob/main/Asosiasi_Algoritma.ipynb\" target=\"_parent\"><img src=\"https://colab.research.google.com/assets/colab-badge.svg\" alt=\"Open In Colab\"/></a>"
      ]
    },
    {
      "cell_type": "code",
      "source": [
        "install.packages(\"arules\")"
      ],
      "metadata": {
        "colab": {
          "base_uri": "https://localhost:8080/"
        },
        "id": "x-UnKFkJr7H8",
        "outputId": "b8456b50-4a80-4bd8-c3bf-2eebcb6cc9bb"
      },
      "execution_count": 25,
      "outputs": [
        {
          "output_type": "stream",
          "name": "stderr",
          "text": [
            "Installing package into ‘/usr/local/lib/R/site-library’\n",
            "(as ‘lib’ is unspecified)\n",
            "\n",
            "Installing package into ‘/usr/local/lib/R/site-library’\n",
            "(as ‘lib’ is unspecified)\n",
            "\n",
            "also installing the dependencies ‘iterators’, ‘foreach’, ‘zoo’, ‘tweenr’, ‘polyclip’, ‘RcppEigen’, ‘gridExtra’, ‘RcppArmadillo’, ‘later’, ‘TSP’, ‘qap’, ‘gclus’, ‘registry’, ‘lmtest’, ‘ggforce’, ‘ggrepel’, ‘viridis’, ‘tidygraph’, ‘graphlayouts’, ‘htmlwidgets’, ‘crosstalk’, ‘promises’, ‘lazyeval’, ‘seriation’, ‘vcd’, ‘igraph’, ‘scatterplot3d’, ‘ggraph’, ‘DT’, ‘plotly’, ‘visNetwork’\n",
            "\n",
            "\n",
            "Installing package into ‘/usr/local/lib/R/site-library’\n",
            "(as ‘lib’ is unspecified)\n",
            "\n"
          ]
        }
      ]
    },
    {
      "cell_type": "code",
      "execution_count": 67,
      "metadata": {
        "id": "FRlRfiXord39"
      },
      "outputs": [],
      "source": [
        "library(arules)"
      ]
    },
    {
      "cell_type": "code",
      "source": [
        "df <- read.transactions(file=\"transaksi_dqlab_retail.tsv\", format = \"single\", sep=\"\\t\", cols=c(1,2), skip=1)\n"
      ],
      "metadata": {
        "id": "yor7hqx_sPmy"
      },
      "execution_count": 68,
      "outputs": []
    },
    {
      "cell_type": "code",
      "source": [
        "avar <- apriori(df, parameter=list(supp=10/length(df), conf=0.1,minlen=2,maxlen=3))"
      ],
      "metadata": {
        "colab": {
          "base_uri": "https://localhost:8080/"
        },
        "id": "eyb-qqqfsKZb",
        "outputId": "75b19ccb-3641-4dd4-9584-2455f22d1d24"
      },
      "execution_count": 69,
      "outputs": [
        {
          "output_type": "stream",
          "name": "stdout",
          "text": [
            "Apriori\n",
            "\n",
            "Parameter specification:\n",
            " confidence minval smax arem  aval originalSupport maxtime     support minlen\n",
            "        0.1    0.1    1 none FALSE            TRUE       5 0.002898551      2\n",
            " maxlen target  ext\n",
            "      3  rules TRUE\n",
            "\n",
            "Algorithmic control:\n",
            " filter tree heap memopt load sort verbose\n",
            "    0.1 TRUE TRUE  FALSE TRUE    2    TRUE\n",
            "\n",
            "Absolute minimum support count: 10 \n",
            "\n",
            "set item appearances ...[0 item(s)] done [0.00s].\n",
            "set transactions ...[69 item(s), 3450 transaction(s)] done [0.00s].\n",
            "sorting and recoding items ... [68 item(s)] done [0.00s].\n",
            "creating transaction tree ... done [0.00s].\n",
            "checking subsets of size 1 2 3"
          ]
        },
        {
          "output_type": "stream",
          "name": "stderr",
          "text": [
            "Warning message in apriori(df, parameter = list(supp = 10/length(df), conf = 0.1, :\n",
            "“Mining stopped (maxlen reached). Only patterns up to a length of 3 returned!”\n"
          ]
        },
        {
          "output_type": "stream",
          "name": "stdout",
          "text": [
            " done [0.01s].\n",
            "writing ... [39832 rule(s)] done [0.01s].\n",
            "creating S4 object  ... done [0.01s].\n"
          ]
        }
      ]
    },
    {
      "cell_type": "markdown",
      "source": [
        "Analisis asosiasi untuk Tas Makeup dan Baju Renang Anak-anak."
      ],
      "metadata": {
        "id": "OnlIyNp52epd"
      }
    },
    {
      "cell_type": "markdown",
      "source": [
        "\n",
        "Dalam Kasus 2 item tersebut adalah item dengan pembelian terlambat atau sedikit pembelian **bold text** **bold text**"
      ],
      "metadata": {
        "id": "8iojstyn8bk-"
      }
    },
    {
      "cell_type": "code",
      "source": [
        "tasMakeup <- subset(avar, rhs %in% \"Tas Makeup\")\n",
        "bajuRenangaa <- subset(avar, rhs %in% \"Baju Renang Pria Anak-anak\")"
      ],
      "metadata": {
        "id": "3zmn6-93tIGX"
      },
      "execution_count": 70,
      "outputs": []
    },
    {
      "cell_type": "code",
      "source": [
        "tasMakeup <- head(sort(tasMakeup, decreasing=TRUE, by=\"lift\"),3)\n",
        "bajuRenangaa <- head(sort(bajuRenangaa, decreasing = TRUE,by=\"lift\"),3)"
      ],
      "metadata": {
        "id": "vXusmvADtbkx"
      },
      "execution_count": 71,
      "outputs": []
    },
    {
      "cell_type": "code",
      "source": [
        "hasil <- c(tasMakeup,bajuRenangaa)\n",
        "#save data in txt file\n",
        "write(hasil,file=\"Rules_Slow_Moving.txt\")"
      ],
      "metadata": {
        "id": "N32chBSgt42g"
      },
      "execution_count": 72,
      "outputs": []
    },
    {
      "cell_type": "code",
      "source": [
        "#rules\n",
        "data <- as(hasil,\"data.frame\")\n",
        "View(data)"
      ],
      "metadata": {
        "colab": {
          "base_uri": "https://localhost:8080/",
          "height": 286
        },
        "id": "wlgI_dij3w4L",
        "outputId": "5b4c4c37-ce82-404d-9c2b-40b31a5423ea"
      },
      "execution_count": 73,
      "outputs": [
        {
          "output_type": "display_data",
          "data": {
            "text/markdown": "\nA data.frame: 6 × 6\n\n| <!--/--> | rules &lt;chr&gt; | support &lt;dbl&gt; | confidence &lt;dbl&gt; | coverage &lt;dbl&gt; | lift &lt;dbl&gt; | count &lt;int&gt; |\n|---|---|---|---|---|---|---|\n| 3798 | {Baju Renang Anak Perempuan,Tas Pinggang Wanita} =&gt; {Tas Makeup}        | 0.010434783 | 0.8000000 | 0.01304348 | 19.57447 | 36 |\n| 3804 | {Baju Renang Anak Perempuan,Tas Ransel Mini} =&gt; {Tas Makeup}            | 0.011304348 | 0.7959184 | 0.01420290 | 19.47460 | 39 |\n| 3792 | {Baju Renang Anak Perempuan,Celana Pendek Green/Hijau} =&gt; {Tas Makeup}  | 0.010144928 | 0.7777778 | 0.01304348 | 19.03073 | 35 |\n| 2290 | {Gembok Koper,Tas Waist Bag} =&gt; {Baju Renang Pria Anak-anak}            | 0.004057971 | 0.2745098 | 0.01478261 | 29.59559 | 14 |\n| 2293 | {Flat Shoes Ballerina,Gembok Koper} =&gt; {Baju Renang Pria Anak-anak}     | 0.004057971 | 0.1866667 | 0.02173913 | 20.12500 | 14 |\n| 2298 | {Celana Jeans Sobek Wanita,Jeans Jumbo} =&gt; {Baju Renang Pria Anak-anak} | 0.005507246 | 0.1210191 | 0.04550725 | 13.04737 | 19 |\n\n",
            "text/latex": "A data.frame: 6 × 6\n\\begin{tabular}{r|llllll}\n  & rules & support & confidence & coverage & lift & count\\\\\n  & <chr> & <dbl> & <dbl> & <dbl> & <dbl> & <int>\\\\\n\\hline\n\t3798 & \\{Baju Renang Anak Perempuan,Tas Pinggang Wanita\\} => \\{Tas Makeup\\}        & 0.010434783 & 0.8000000 & 0.01304348 & 19.57447 & 36\\\\\n\t3804 & \\{Baju Renang Anak Perempuan,Tas Ransel Mini\\} => \\{Tas Makeup\\}            & 0.011304348 & 0.7959184 & 0.01420290 & 19.47460 & 39\\\\\n\t3792 & \\{Baju Renang Anak Perempuan,Celana Pendek Green/Hijau\\} => \\{Tas Makeup\\}  & 0.010144928 & 0.7777778 & 0.01304348 & 19.03073 & 35\\\\\n\t2290 & \\{Gembok Koper,Tas Waist Bag\\} => \\{Baju Renang Pria Anak-anak\\}            & 0.004057971 & 0.2745098 & 0.01478261 & 29.59559 & 14\\\\\n\t2293 & \\{Flat Shoes Ballerina,Gembok Koper\\} => \\{Baju Renang Pria Anak-anak\\}     & 0.004057971 & 0.1866667 & 0.02173913 & 20.12500 & 14\\\\\n\t2298 & \\{Celana Jeans Sobek Wanita,Jeans Jumbo\\} => \\{Baju Renang Pria Anak-anak\\} & 0.005507246 & 0.1210191 & 0.04550725 & 13.04737 & 19\\\\\n\\end{tabular}\n",
            "text/html": [
              "<table class=\"dataframe\">\n",
              "<caption>A data.frame: 6 × 6</caption>\n",
              "<thead>\n",
              "\t<tr><th></th><th scope=col>rules</th><th scope=col>support</th><th scope=col>confidence</th><th scope=col>coverage</th><th scope=col>lift</th><th scope=col>count</th></tr>\n",
              "\t<tr><th></th><th scope=col>&lt;chr&gt;</th><th scope=col>&lt;dbl&gt;</th><th scope=col>&lt;dbl&gt;</th><th scope=col>&lt;dbl&gt;</th><th scope=col>&lt;dbl&gt;</th><th scope=col>&lt;int&gt;</th></tr>\n",
              "</thead>\n",
              "<tbody>\n",
              "\t<tr><th scope=row>3798</th><td><span style=white-space:pre-wrap>{Baju Renang Anak Perempuan,Tas Pinggang Wanita} =&gt; {Tas Makeup}       </span></td><td>0.010434783</td><td>0.8000000</td><td>0.01304348</td><td>19.57447</td><td>36</td></tr>\n",
              "\t<tr><th scope=row>3804</th><td><span style=white-space:pre-wrap>{Baju Renang Anak Perempuan,Tas Ransel Mini} =&gt; {Tas Makeup}           </span></td><td>0.011304348</td><td>0.7959184</td><td>0.01420290</td><td>19.47460</td><td>39</td></tr>\n",
              "\t<tr><th scope=row>3792</th><td>{Baju Renang Anak Perempuan,Celana Pendek Green/Hijau} =&gt; {Tas Makeup} </td><td>0.010144928</td><td>0.7777778</td><td>0.01304348</td><td>19.03073</td><td>35</td></tr>\n",
              "\t<tr><th scope=row>2290</th><td><span style=white-space:pre-wrap>{Gembok Koper,Tas Waist Bag} =&gt; {Baju Renang Pria Anak-anak}           </span></td><td>0.004057971</td><td>0.2745098</td><td>0.01478261</td><td>29.59559</td><td>14</td></tr>\n",
              "\t<tr><th scope=row>2293</th><td><span style=white-space:pre-wrap>{Flat Shoes Ballerina,Gembok Koper} =&gt; {Baju Renang Pria Anak-anak}    </span></td><td>0.004057971</td><td>0.1866667</td><td>0.02173913</td><td>20.12500</td><td>14</td></tr>\n",
              "\t<tr><th scope=row>2298</th><td>{Celana Jeans Sobek Wanita,Jeans Jumbo} =&gt; {Baju Renang Pria Anak-anak}</td><td>0.005507246</td><td>0.1210191</td><td>0.04550725</td><td>13.04737</td><td>19</td></tr>\n",
              "</tbody>\n",
              "</table>\n"
            ],
            "text/plain": [
              "     rules                                                                  \n",
              "3798 {Baju Renang Anak Perempuan,Tas Pinggang Wanita} => {Tas Makeup}       \n",
              "3804 {Baju Renang Anak Perempuan,Tas Ransel Mini} => {Tas Makeup}           \n",
              "3792 {Baju Renang Anak Perempuan,Celana Pendek Green/Hijau} => {Tas Makeup} \n",
              "2290 {Gembok Koper,Tas Waist Bag} => {Baju Renang Pria Anak-anak}           \n",
              "2293 {Flat Shoes Ballerina,Gembok Koper} => {Baju Renang Pria Anak-anak}    \n",
              "2298 {Celana Jeans Sobek Wanita,Jeans Jumbo} => {Baju Renang Pria Anak-anak}\n",
              "     support     confidence coverage   lift     count\n",
              "3798 0.010434783 0.8000000  0.01304348 19.57447 36   \n",
              "3804 0.011304348 0.7959184  0.01420290 19.47460 39   \n",
              "3792 0.010144928 0.7777778  0.01304348 19.03073 35   \n",
              "2290 0.004057971 0.2745098  0.01478261 29.59559 14   \n",
              "2293 0.004057971 0.1866667  0.02173913 20.12500 14   \n",
              "2298 0.005507246 0.1210191  0.04550725 13.04737 19   "
            ]
          },
          "metadata": {}
        }
      ]
    }
  ]
}